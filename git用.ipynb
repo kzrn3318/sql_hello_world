{
 "cells": [
  {
   "cell_type": "code",
   "execution_count": 1,
   "metadata": {},
   "outputs": [],
   "source": [
    "import sqlite3\n",
    "import pandas as pd\n",
    "import pandas.io.sql as sql"
   ]
  },
  {
   "cell_type": "markdown",
   "metadata": {},
   "source": [
    "# create dataframe"
   ]
  },
  {
   "cell_type": "code",
   "execution_count": 2,
   "metadata": {},
   "outputs": [],
   "source": [
    "city = [\"tokyo\",\"kyoto\",\"oosaka\"]\n",
    "num = [30,20,28]\n",
    "df_1 = pd.DataFrame({\"city\":city,\"number_of_city\":num})"
   ]
  },
  {
   "cell_type": "code",
   "execution_count": 3,
   "metadata": {},
   "outputs": [
    {
     "data": {
      "text/html": [
       "<div>\n",
       "<style scoped>\n",
       "    .dataframe tbody tr th:only-of-type {\n",
       "        vertical-align: middle;\n",
       "    }\n",
       "\n",
       "    .dataframe tbody tr th {\n",
       "        vertical-align: top;\n",
       "    }\n",
       "\n",
       "    .dataframe thead th {\n",
       "        text-align: right;\n",
       "    }\n",
       "</style>\n",
       "<table border=\"1\" class=\"dataframe\">\n",
       "  <thead>\n",
       "    <tr style=\"text-align: right;\">\n",
       "      <th></th>\n",
       "      <th>city</th>\n",
       "      <th>number_of_city</th>\n",
       "    </tr>\n",
       "  </thead>\n",
       "  <tbody>\n",
       "    <tr>\n",
       "      <th>0</th>\n",
       "      <td>tokyo</td>\n",
       "      <td>30</td>\n",
       "    </tr>\n",
       "    <tr>\n",
       "      <th>1</th>\n",
       "      <td>kyoto</td>\n",
       "      <td>20</td>\n",
       "    </tr>\n",
       "    <tr>\n",
       "      <th>2</th>\n",
       "      <td>oosaka</td>\n",
       "      <td>28</td>\n",
       "    </tr>\n",
       "  </tbody>\n",
       "</table>\n",
       "</div>"
      ],
      "text/plain": [
       "     city  number_of_city\n",
       "0   tokyo              30\n",
       "1   kyoto              20\n",
       "2  oosaka              28"
      ]
     },
     "execution_count": 3,
     "metadata": {},
     "output_type": "execute_result"
    }
   ],
   "source": [
    "df_1"
   ]
  },
  {
   "cell_type": "markdown",
   "metadata": {},
   "source": [
    "# dataframe -> database"
   ]
  },
  {
   "cell_type": "code",
   "execution_count": 4,
   "metadata": {},
   "outputs": [],
   "source": [
    "path = \"tamesi.db\"\n",
    "conn = sqlite3.connect(path)\n",
    "cur = conn.cursor()\n",
    "sql.to_sql(df_1,\"study\",conn,if_exists=\"replace\",index=None)\n",
    "cur.close()\n",
    "conn.close()"
   ]
  },
  {
   "cell_type": "markdown",
   "metadata": {},
   "source": [
    "# create function"
   ]
  },
  {
   "cell_type": "code",
   "execution_count": 5,
   "metadata": {},
   "outputs": [],
   "source": [
    "def ret_column(db,table,column=\"\"):\n",
    "    assert bool(column), \"no column is spcified.\"\n",
    "    conn= sqlite3.connect(db)\n",
    "    cur = conn.cursor()\n",
    "    cur.execute(\"select {} from {}\".format(column,table))\n",
    "    val = cur.fetchall()\n",
    "    cur.close()\n",
    "    conn.close()\n",
    "    return val\n",
    "\n",
    "def ret_all(db,table):\n",
    "    conn = sqlite3.connect(db)\n",
    "    cur = conn.cursor()\n",
    "    cur.execute(\"select * from {}\".format(table))\n",
    "    val = cur.fetchall()\n",
    "    cur.close()\n",
    "    conn.close()\n",
    "    return val"
   ]
  },
  {
   "cell_type": "markdown",
   "metadata": {},
   "source": [
    "# Operation check"
   ]
  },
  {
   "cell_type": "code",
   "execution_count": 6,
   "metadata": {},
   "outputs": [],
   "source": [
    "path = \"tamesi.db\"\n",
    "table=\"study\"\n",
    "val_1 = ret_column(path,table,column=\"city\")\n",
    "val_2 = ret_all(path,table)"
   ]
  },
  {
   "cell_type": "code",
   "execution_count": 7,
   "metadata": {},
   "outputs": [
    {
     "name": "stdout",
     "output_type": "stream",
     "text": [
      "[('tokyo',), ('kyoto',), ('oosaka',)]\n",
      "[('tokyo', 30), ('kyoto', 20), ('oosaka', 28)]\n"
     ]
    }
   ],
   "source": [
    "print(val_1)\n",
    "print(val_2)"
   ]
  },
  {
   "cell_type": "markdown",
   "metadata": {},
   "source": [
    "# instance"
   ]
  },
  {
   "cell_type": "code",
   "execution_count": 10,
   "metadata": {},
   "outputs": [],
   "source": [
    "class ret_from_db():\n",
    "    def __init__(self,db):\n",
    "        self.db = db\n",
    "\n",
    "    def ret_column(self,table,column=\"\"):\n",
    "        assert bool(column), \"no column is spcified\"\n",
    "        conn= sqlite3.connect(self.db)\n",
    "        cur = conn.cursor()\n",
    "        cur.execute(\"select {} from {}\".format(column,table))\n",
    "        val = cur.fetchall()\n",
    "        cur.close()\n",
    "        conn.close()\n",
    "        return val\n",
    "\n",
    "    def ret_all(self,table):\n",
    "        conn = sqlite3.connect(self.db)\n",
    "        cur = conn.cursor()\n",
    "        cur.execute(\"select * from {}\".format(table))\n",
    "        val = cur.fetchall()\n",
    "        cur.close()\n",
    "        conn.close()\n",
    "        return val"
   ]
  },
  {
   "cell_type": "markdown",
   "metadata": {},
   "source": [
    "# check"
   ]
  },
  {
   "cell_type": "code",
   "execution_count": 11,
   "metadata": {},
   "outputs": [
    {
     "name": "stdout",
     "output_type": "stream",
     "text": [
      "[('tokyo',), ('kyoto',), ('oosaka',)]\n",
      "[('tokyo', 30), ('kyoto', 20), ('oosaka', 28)]\n"
     ]
    }
   ],
   "source": [
    "get_db = ret_from_db(db=\"tamesi.db\")\n",
    "val_1 = get_db.ret_column(table=\"study\",column=\"city\")\n",
    "val_2 = get_db.ret_all(table=\"study\")\n",
    "print(val_1)\n",
    "print(val_2)"
   ]
  }
 ],
 "metadata": {
  "kernelspec": {
   "display_name": "Python 3",
   "language": "python",
   "name": "python3"
  },
  "language_info": {
   "codemirror_mode": {
    "name": "ipython",
    "version": 3
   },
   "file_extension": ".py",
   "mimetype": "text/x-python",
   "name": "python",
   "nbconvert_exporter": "python",
   "pygments_lexer": "ipython3",
   "version": "3.8.3"
  }
 },
 "nbformat": 4,
 "nbformat_minor": 4
}
